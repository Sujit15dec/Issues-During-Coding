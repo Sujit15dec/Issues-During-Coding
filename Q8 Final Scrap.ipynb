{
 "cells": [
  {
   "cell_type": "code",
   "execution_count": 1,
   "id": "46c5ac35",
   "metadata": {},
   "outputs": [],
   "source": [
    "#Q8. Write a python program to scrape mentioned details from ‘https://www.dineout.co.in/delhi-restaurants/buffet-special’ :"
   ]
  },
  {
   "cell_type": "code",
   "execution_count": 2,
   "id": "b86276c3",
   "metadata": {},
   "outputs": [
    {
     "data": {
      "text/plain": [
       "<Response [200]>"
      ]
     },
     "execution_count": 2,
     "metadata": {},
     "output_type": "execute_result"
    }
   ],
   "source": [
    "from bs4 import BeautifulSoup\n",
    "import requests\n",
    "import re\n",
    "page = requests.get('https://www.dineout.co.in/delhi-restaurants/buffet-special')\n",
    "\n",
    "soup=BeautifulSoup(page.content)\n",
    "page"
   ]
  },
  {
   "cell_type": "code",
   "execution_count": 3,
   "id": "fa4073ee",
   "metadata": {},
   "outputs": [
    {
     "data": {
      "text/plain": [
       "'Castle BarbequeConnaught Place, Central Delhi'"
      ]
     },
     "execution_count": 3,
     "metadata": {},
     "output_type": "execute_result"
    }
   ],
   "source": [
    "#<i> Restaurant name\n",
    "\n",
    "rst_nm = soup.find('div',class_=\"restnt-info cursor\")\n",
    "rst_nm.text"
   ]
  },
  {
   "cell_type": "code",
   "execution_count": 4,
   "id": "e6a37c7e",
   "metadata": {},
   "outputs": [
    {
     "data": {
      "text/plain": [
       "' Chinese, North Indian'"
      ]
     },
     "execution_count": 4,
     "metadata": {},
     "output_type": "execute_result"
    }
   ],
   "source": [
    "#<ii> Cuisine\n",
    "\n",
    "csn=soup.find('span',class_=\"double-line-ellipsis\")\n",
    "csn.text.split('|')[1]"
   ]
  },
  {
   "cell_type": "code",
   "execution_count": 5,
   "id": "ce45a579",
   "metadata": {},
   "outputs": [
    {
     "data": {
      "text/plain": [
       "'Connaught Place, Central Delhi'"
      ]
     },
     "execution_count": 5,
     "metadata": {},
     "output_type": "execute_result"
    }
   ],
   "source": [
    "#<iii> Location\n",
    "\n",
    "loc=soup.find('div',class_=\"restnt-loc ellipsis\")\n",
    "loc.text"
   ]
  },
  {
   "cell_type": "code",
   "execution_count": 6,
   "id": "dda8f5e3",
   "metadata": {},
   "outputs": [
    {
     "data": {
      "text/plain": [
       "'3.4'"
      ]
     },
     "execution_count": 6,
     "metadata": {},
     "output_type": "execute_result"
    }
   ],
   "source": [
    "#<iv> Ratings\n",
    "\n",
    "rate=soup.find('div',class_=\"restnt-rating rating-3\")\n",
    "rate.text"
   ]
  },
  {
   "cell_type": "code",
   "execution_count": 7,
   "id": "37e8ff74",
   "metadata": {},
   "outputs": [
    {
     "data": {
      "text/plain": [
       "'https://im1.dineout.co.in/images/uploads/restaurant/sharpen/8/k/b/p86792-16062953735fbe1f4d3fb7e.jpg?tr=tr:n-medium'"
      ]
     },
     "execution_count": 7,
     "metadata": {},
     "output_type": "execute_result"
    }
   ],
   "source": [
    "#<v> Image URL\n",
    "\n",
    "img=soup.find(\"img\", class_=\"no-img\")\n",
    "img['data-src']"
   ]
  },
  {
   "cell_type": "code",
   "execution_count": null,
   "id": "6c574a5d",
   "metadata": {},
   "outputs": [],
   "source": []
  }
 ],
 "metadata": {
  "kernelspec": {
   "display_name": "Python 3",
   "language": "python",
   "name": "python3"
  },
  "language_info": {
   "codemirror_mode": {
    "name": "ipython",
    "version": 3
   },
   "file_extension": ".py",
   "mimetype": "text/x-python",
   "name": "python",
   "nbconvert_exporter": "python",
   "pygments_lexer": "ipython3",
   "version": "3.8.8"
  }
 },
 "nbformat": 4,
 "nbformat_minor": 5
}
