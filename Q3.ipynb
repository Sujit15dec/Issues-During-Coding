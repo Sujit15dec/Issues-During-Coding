{
 "cells": [
  {
   "cell_type": "code",
   "execution_count": 1,
   "id": "e36fe4f5",
   "metadata": {},
   "outputs": [],
   "source": [
    "#Q3 Write a python program to display IMDB’s Top rated 100 Indian movies’ data (i.e. Name, IMDB rating, Year of release) and make data frame."
   ]
  },
  {
   "cell_type": "code",
   "execution_count": 2,
   "id": "3e8dd680",
   "metadata": {},
   "outputs": [
    {
     "data": {
      "text/html": [
       "<div>\n",
       "<style scoped>\n",
       "    .dataframe tbody tr th:only-of-type {\n",
       "        vertical-align: middle;\n",
       "    }\n",
       "\n",
       "    .dataframe tbody tr th {\n",
       "        vertical-align: top;\n",
       "    }\n",
       "\n",
       "    .dataframe thead th {\n",
       "        text-align: right;\n",
       "    }\n",
       "</style>\n",
       "<table border=\"1\" class=\"dataframe\">\n",
       "  <thead>\n",
       "    <tr style=\"text-align: right;\">\n",
       "      <th></th>\n",
       "      <th>Movie</th>\n",
       "      <th>Year</th>\n",
       "      <th>IMDB_Rating</th>\n",
       "    </tr>\n",
       "  </thead>\n",
       "  <tbody>\n",
       "  </tbody>\n",
       "</table>\n",
       "</div>"
      ],
      "text/plain": [
       "Empty DataFrame\n",
       "Columns: [Movie, Year, IMDB_Rating]\n",
       "Index: []"
      ]
     },
     "execution_count": 2,
     "metadata": {},
     "output_type": "execute_result"
    }
   ],
   "source": [
    "import pandas as pd\n",
    "import numpy as np\n",
    "\n",
    "import requests\n",
    "from requests import get\n",
    "from bs4 import BeautifulSoup\n",
    "\n",
    "headers = {'Accept-Language': 'en-US, en;q=0.5'}\n",
    "\n",
    "pages = np.arange(0, 200, 100)\n",
    "pages\n",
    "\n",
    "for page in pages:\n",
    "    page = requests.get('https://www.imdb.com/list/ls009997493/=' + str(page) + '&ref_=ttls_nxt', headers=headers)\n",
    "    soup = BeautifulSoup(page.text, 'html.parser')\n",
    "    \n",
    "titles = []\n",
    "for i in soup.find_all(\"div\", class_=\"lister-item-head\"):\n",
    "    titles.append(i.text)\n",
    "    \n",
    "    \n",
    "years = []\n",
    "for i in soup.find_all(\"span\", class_=\"lister-item-year\"):\n",
    "    years.append(i.text)\n",
    "    \n",
    "    \n",
    "imdb_ratings = []\n",
    "for i in soup.find_all(\"div\", class_=\"ipl-rating-widget\"):\n",
    "    imdb_ratings.append(i.text)\n",
    "\n",
    "df = pd.DataFrame({'Movie':titles,'Year':years,'IMDB_Rating':imdb_ratings,})\n",
    "df\n"
   ]
  },
  {
   "cell_type": "code",
   "execution_count": null,
   "id": "58c10e73",
   "metadata": {},
   "outputs": [],
   "source": []
  }
 ],
 "metadata": {
  "kernelspec": {
   "display_name": "Python 3",
   "language": "python",
   "name": "python3"
  },
  "language_info": {
   "codemirror_mode": {
    "name": "ipython",
    "version": 3
   },
   "file_extension": ".py",
   "mimetype": "text/x-python",
   "name": "python",
   "nbconvert_exporter": "python",
   "pygments_lexer": "ipython3",
   "version": "3.8.8"
  }
 },
 "nbformat": 4,
 "nbformat_minor": 5
}
