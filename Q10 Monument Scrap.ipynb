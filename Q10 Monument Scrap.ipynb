{
 "cells": [
  {
   "cell_type": "code",
   "execution_count": 1,
   "id": "d6808fb0",
   "metadata": {},
   "outputs": [
    {
     "data": {
      "text/plain": [
       "'Top 10 Famous Monuments to Visit In India'"
      ]
     },
     "execution_count": 1,
     "metadata": {},
     "output_type": "execute_result"
    }
   ],
   "source": [
    "from bs4 import BeautifulSoup\n",
    "import requests\n",
    "import re\n",
    "page = requests.get('https://www.puredestinations.co.uk/top-10-famous-monuments-to-visit-in-india/')\n",
    "soup=BeautifulSoup(page.content)\n",
    "title = soup.find('h3',class_=\"title title--heading\")\n",
    "title.text"
   ]
  },
  {
   "cell_type": "code",
   "execution_count": 2,
   "id": "14a5a402",
   "metadata": {},
   "outputs": [
    {
     "data": {
      "text/plain": [
       "'Are you inspired to plan an incredible trip to India? Get in touch with Pure Destinations today to speak to a travel expert to plan a tailor made itinerary.\\xa0Fancy exploring these famous monuments in India? Why not\\xa0contact\\xa0us today!'"
      ]
     },
     "execution_count": 2,
     "metadata": {},
     "output_type": "execute_result"
    }
   ],
   "source": [
    "data = soup.find_all('div', class_=\"blog--single__content column--3-4 u-spacing-third\")\n",
    "\n",
    "temp=[]\n",
    "\n",
    "for i in data:\n",
    "\n",
    "    for j in i.find_all('p'):\n",
    "\n",
    "        t = j.text.replace('\\n', '') # only extracting data\n",
    "\n",
    "        temp.append(t)\n",
    "t\n",
    "       "
   ]
  },
  {
   "cell_type": "code",
   "execution_count": 3,
   "id": "e83ab75d",
   "metadata": {},
   "outputs": [
    {
     "data": {
      "text/plain": [
       "['Top 10 Famous Monuments to Visit In IndiaRich in culture and diversity, India is home to some of the finest historical monuments in the world. Most recognised by the UNESCO World Heritage Site, the famous Indian monuments include the beautiful Taj Mahal, the sacred Golden Temple and the cultural site, Hawa Mahal. Discover and experience the magnificent insights into India’s rich heritage and ancient architecture. Read on for our list of the top must see historical monuments in India below.Taj Mahal, AgraEnlisted in the Seven Wonders of the World, The Taj Mahal is one of the most beautiful and famous buildings located in the city of Agra. This white marble monument was built by a Mughal Emperor called Shahajahan in memory of his beloved wife. Due to its amazing architecture and the history behind it, this world heritage site has become very popular to visit by all travellers and romantics from all over the world.Golden Temple (Harmandir Sahib), Amritsar The holiest shrine and pilgrimage place located in Amritsar is The Golden Temple known as the Harmandir Sahib. This is the most famous and sacred Sikh Gurdwara in Punjab, India, adorned with rich history and gold gilded exterior. If you are interested in culture and history, be sure to visit this popular attraction in India.Meenakshi Temple, MaduraiMeenakshi Temple is situated on the Southern banks of Vaigai River in the temple city Madurai. This temple is dedicated to Parvati and her consort, Shiva and is visited by most Hindu and Tamil devotees and architectural lovers throughout the world. It is believed that this shrine houses 33,000 sculptures in its 14 gopurams. It’s no doubt one place to visit if you are impressed with art and cultural history.Mysore Palace, MysoreThe Mysore Palace is a famous historical monument in the city of Mysore in Karnataka. Commonly described as the City of Palaces, this is the most famous tourist attraction in India after the Taj Mahal. It is a sight not be missed with its spacious halls, lovely art paintings and Indo-Saracenic style architecture. Best time to visit is at night due to the astonishing illuminated lights covering the whole monument.Gateway of India, MumbaiEven though Mumbai is famous for its Bollywood actors and movies, the most famous attraction in Mumbai is The Gateway of India. It is a popular gathering spot for locals, travellers, street vendors and photographers and is known as the Taj Mahal of Mumbai. The majestic monument was built to commemorate the visit of King George V and Queen Mary to Bombay. With so much fun and excitement this place is not to be missed with family or on your tour of India.Red Fort, New DelhiDeclared as the UNESCO’s World Heritage Site, Red Fort is located in the centre of beautiful Delhi. If you love learning about history and culture then this famous historic monument is a must see place to visit. Built by the Mughal Emperor, Shah Jahan in 1648, and housing a number of museums, its walls are built of red sandstone. The best time to visit is on Independence Day where the Prime Minister of India hoists the national flag at the Red Fort. End the day by heading to an Indian restaurant and enjoy the varieties of wonderful cuisines.Hawa Mahal, JaipurExplore a blend of beauty and Rajasthan culture, the Hawa Mahal also known as Palace of Winds is situated in the capital of Rajasthan, Jaipur. Built from red and pink sandstones by the Maharaja Sawi Pratap Singh in 1799, this unique five storey structure is one of the most prominent tourist attractions in the Jaipur city.Qutub Minar, New DelhiDiscover one of the tallest towers in the world and the second tallest Minar of India standing elegantly in the Capital city, New Delhi. Standing at 72.5 metres and consisting of around 379 stairs, this famous monument represents the rich architecture of India. As it is a UNESCO World Heritage Site made of red sandstone and decorated with Arabic and Brahmi inscriptions, travellers from around the world come to view this most famous tower in India.Sanchi Stupa, SanchiThe beautiful and massive dome, Sanchi Stupa also known as the Great Stupa is a world renowned Buddhist monument in Sanchi, India. It was constructed by Emperor Ashoka, and is one of the oldest stone structures in the heart of India. Experience the Indian culture by visiting these major attractions in Sanchi including a number of Buddhist Stupas, monasteries and temples.Charminar, HyderabadNo visit to Hyderabad should be complete without visiting the most famous and majestic monument known as the Charminar. This magnificent and striking mosque constructed in 1591 has four minarets and is the most recognisable symbol in the city of Hyderabad.Things to know before planning your trip to IndiaWhen travelling to India it’s important to make sure you are up-to-date with travel requirements including obtaining an India visa.It takes around 9 hours and 42 minutes to fly to India from the UK.Bring your credit or debit card, but rely on cash to pay for most things. India’s currency is the Indian Rupee.The best time to visit India is between October and March.Are you inspired to plan an incredible trip to India? Get in touch with Pure Destinations today to speak to a travel expert to plan a tailor made itinerary.\\xa0Fancy exploring these famous monuments in India? Why not\\xa0contact\\xa0us today!']"
      ]
     },
     "execution_count": 3,
     "metadata": {},
     "output_type": "execute_result"
    }
   ],
   "source": [
    "#Monument Name\n",
    "\n",
    "titles=[]\n",
    "\n",
    "for i in soup.find_all('div',class_=\"blog--single__content column--3-4 u-spacing-third\"):\n",
    "    titles.append(i.text.replace('\\n',''))\n",
    "    \n",
    "titles"
   ]
  },
  {
   "cell_type": "code",
   "execution_count": 4,
   "id": "ccccad8e",
   "metadata": {},
   "outputs": [
    {
     "data": {
      "text/plain": [
       "['Client AreaYour Wishlist (0)Add items to your wishlist to see them here.RegionsCountriesResortsRecommended ItinerariesCruise CompaniesViewEnquireFind your store                                                            Call us now |                                                                                         0800 0856 846Call us now0800 0856 846Pure Destinations | Holiday Builder, Trips, Resorts',\n",
       " 'View All DestinationsView All Resorts',\n",
       " 'Top 10 Famous Monuments to Visit In IndiaRich in culture and diversity, India is home to some of the finest historical monuments in the world. Most recognised by the UNESCO World Heritage Site, the famous Indian monuments include the beautiful Taj Mahal, the sacred Golden Temple and the cultural site, Hawa Mahal. Discover and experience the magnificent insights into India’s rich heritage and ancient architecture. Read on for our list of the top must see historical monuments in India below.Taj Mahal, AgraEnlisted in the Seven Wonders of the World, The Taj Mahal is one of the most beautiful and famous buildings located in the city of Agra. This white marble monument was built by a Mughal Emperor called Shahajahan in memory of his beloved wife. Due to its amazing architecture and the history behind it, this world heritage site has become very popular to visit by all travellers and romantics from all over the world.Golden Temple (Harmandir Sahib), Amritsar The holiest shrine and pilgrimage place located in Amritsar is The Golden Temple known as the Harmandir Sahib. This is the most famous and sacred Sikh Gurdwara in Punjab, India, adorned with rich history and gold gilded exterior. If you are interested in culture and history, be sure to visit this popular attraction in India.Meenakshi Temple, MaduraiMeenakshi Temple is situated on the Southern banks of Vaigai River in the temple city Madurai. This temple is dedicated to Parvati and her consort, Shiva and is visited by most Hindu and Tamil devotees and architectural lovers throughout the world. It is believed that this shrine houses 33,000 sculptures in its 14 gopurams. It’s no doubt one place to visit if you are impressed with art and cultural history.Mysore Palace, MysoreThe Mysore Palace is a famous historical monument in the city of Mysore in Karnataka. Commonly described as the City of Palaces, this is the most famous tourist attraction in India after the Taj Mahal. It is a sight not be missed with its spacious halls, lovely art paintings and Indo-Saracenic style architecture. Best time to visit is at night due to the astonishing illuminated lights covering the whole monument.Gateway of India, MumbaiEven though Mumbai is famous for its Bollywood actors and movies, the most famous attraction in Mumbai is The Gateway of India. It is a popular gathering spot for locals, travellers, street vendors and photographers and is known as the Taj Mahal of Mumbai. The majestic monument was built to commemorate the visit of King George V and Queen Mary to Bombay. With so much fun and excitement this place is not to be missed with family or on your tour of India.Red Fort, New DelhiDeclared as the UNESCO’s World Heritage Site, Red Fort is located in the centre of beautiful Delhi. If you love learning about history and culture then this famous historic monument is a must see place to visit. Built by the Mughal Emperor, Shah Jahan in 1648, and housing a number of museums, its walls are built of red sandstone. The best time to visit is on Independence Day where the Prime Minister of India hoists the national flag at the Red Fort. End the day by heading to an Indian restaurant and enjoy the varieties of wonderful cuisines.Hawa Mahal, JaipurExplore a blend of beauty and Rajasthan culture, the Hawa Mahal also known as Palace of Winds is situated in the capital of Rajasthan, Jaipur. Built from red and pink sandstones by the Maharaja Sawi Pratap Singh in 1799, this unique five storey structure is one of the most prominent tourist attractions in the Jaipur city.Qutub Minar, New DelhiDiscover one of the tallest towers in the world and the second tallest Minar of India standing elegantly in the Capital city, New Delhi. Standing at 72.5 metres and consisting of around 379 stairs, this famous monument represents the rich architecture of India. As it is a UNESCO World Heritage Site made of red sandstone and decorated with Arabic and Brahmi inscriptions, travellers from around the world come to view this most famous tower in India.Sanchi Stupa, SanchiThe beautiful and massive dome, Sanchi Stupa also known as the Great Stupa is a world renowned Buddhist monument in Sanchi, India. It was constructed by Emperor Ashoka, and is one of the oldest stone structures in the heart of India. Experience the Indian culture by visiting these major attractions in Sanchi including a number of Buddhist Stupas, monasteries and temples.Charminar, HyderabadNo visit to Hyderabad should be complete without visiting the most famous and majestic monument known as the Charminar. This magnificent and striking mosque constructed in 1591 has four minarets and is the most recognisable symbol in the city of Hyderabad.Things to know before planning your trip to IndiaWhen travelling to India it’s important to make sure you are up-to-date with travel requirements including obtaining an India visa.It takes around 9 hours and 42 minutes to fly to India from the UK.Bring your credit or debit card, but rely on cash to pay for most things. India’s currency is the Indian Rupee.The best time to visit India is between October and March.Are you inspired to plan an incredible trip to India? Get in touch with Pure Destinations today to speak to a travel expert to plan a tailor made itinerary.\\xa0Fancy exploring these famous monuments in India? Why not\\xa0contact\\xa0us today!CALL US NOW0800 0856 8460800 0856 846Your Wishlist            Add items to your wishlist to see them here.        EnquireReviewsTrustpilot',\n",
       " '\\t\\t\\t\\t\\t\\t\\t\\t\\tCALL US\\t\\t\\t\\t\\t\\t\\t\\tSpeak To Our Travel ExpertsRequest a callback\\t\\t\\t\\t\\t\\t\\t\\t\\tREQUEST A QUOTE\\t\\t\\t\\t\\t\\t\\t\\tGet A Quote From The ExpertsGet a quote\\t\\t\\t\\t\\t\\t\\t\\t\\tWHY CHOOSE US\\t\\t\\t\\t\\t\\t\\t\\tFind Out About Our Luxury ServiceWHY PD',\n",
       " 'Top 10 destinationsMaldivesMauritiusDubaiMexicoSri LankaIndiaPortugalBali, Lombok & IslandsOrlandoThailandAll RegionsAfricaArabiaAsiaAustralia & South PacificCaribbeanEuropeIndian OceanNorth AmericaSouth AmericaJOIN OUR NEWSLETTERKeep up to date with all our exclusive offers, and the best inspiration and advice with by joining our mailing list.Spam Prevention (leave this field blank)\\t\\tJoin\\tTHE BROCHUREWhere to go. What to do. Check out all the latest hotspots by clicking here on use the button below to get a copy sent to your door.View brochure',\n",
       " 'Top 10 destinationsMaldivesMauritiusDubaiMexicoSri LankaIndiaPortugalBali, Lombok & IslandsOrlandoThailandAll RegionsAfricaArabiaAsiaAustralia & South PacificCaribbeanEuropeIndian OceanNorth AmericaSouth America',\n",
       " \"Like us on FacebookFollow us on TwitterFollow us on PinterestFollow us on Google+ABTA Travel with confidenceAir Travel Organisers' LicensingBooking ConditionsPrivacy PolicyWebsite Terms of UseSitemap© 2021 Pure Destinations Ltd | Honeymoon Dreams is a trading name for Pure Destinations Ltd whose registered address can be found on Companies House, Company No. 10604545Website by EDGE Creative\",\n",
       " \"Like us on FacebookFollow us on TwitterFollow us on PinterestFollow us on Google+ABTA Travel with confidenceAir Travel Organisers' Licensing\"]"
      ]
     },
     "execution_count": 4,
     "metadata": {},
     "output_type": "execute_result"
    }
   ],
   "source": [
    "#Monument Description\n",
    "\n",
    "description=[]\n",
    "\n",
    "for i in soup.find_all(\"div\", class_=\"columns\"):\n",
    "    description.append(i.text.replace('\\n',''))\n",
    "    \n",
    "description"
   ]
  },
  {
   "cell_type": "code",
   "execution_count": 5,
   "id": "65ea8537",
   "metadata": {},
   "outputs": [
    {
     "data": {
      "text/plain": [
       "['https://www.facebook.com/tr?id=120737145081077&ev=PageView\\n&noscript=1',\n",
       " 'data:image/gif;base64,R0lGODlhAQABAAAAACH5BAEKAAEALAAAAAABAAEAAAICTAEAOw==',\n",
       " 'https://www.puredestinations.co.uk/wp-content/themes/puredestinations/images/logo/puredestinations.png',\n",
       " 'data:image/gif;base64,R0lGODlhAQABAAAAACH5BAEKAAEALAAAAAABAAEAAAICTAEAOw==',\n",
       " 'https://www.puredestinations.co.uk/wp-content/uploads/2016/11/INDIA-BLOG-HEADER-1600x500.jpg',\n",
       " 'data:image/gif;base64,R0lGODlhAQABAAAAACH5BAEKAAEALAAAAAABAAEAAAICTAEAOw==',\n",
       " 'http://www.puredestinations.co.uk/wp-content/uploads/2016/11/TAJ-MAHAL-PD-BLOG.jpg',\n",
       " 'data:image/gif;base64,R0lGODlhAQABAAAAACH5BAEKAAEALAAAAAABAAEAAAICTAEAOw==',\n",
       " 'http://www.puredestinations.co.uk/wp-content/uploads/2016/11/Golden-Temple-PD-BLOG.jpg',\n",
       " 'data:image/gif;base64,R0lGODlhAQABAAAAACH5BAEKAAEALAAAAAABAAEAAAICTAEAOw==',\n",
       " 'http://www.puredestinations.co.uk/wp-content/uploads/2016/11/meenakshi-temple-PD-BLOG.jpg',\n",
       " 'data:image/gif;base64,R0lGODlhAQABAAAAACH5BAEKAAEALAAAAAABAAEAAAICTAEAOw==',\n",
       " 'http://www.puredestinations.co.uk/wp-content/uploads/2016/11/Mysore-palace-PD-BLOG.jpg',\n",
       " 'data:image/gif;base64,R0lGODlhAQABAAAAACH5BAEKAAEALAAAAAABAAEAAAICTAEAOw==',\n",
       " 'http://www.puredestinations.co.uk/wp-content/uploads/2016/11/gateway-to-india-PD-BLOG.jpg',\n",
       " 'data:image/gif;base64,R0lGODlhAQABAAAAACH5BAEKAAEALAAAAAABAAEAAAICTAEAOw==',\n",
       " 'http://www.puredestinations.co.uk/wp-content/uploads/2016/11/red-fort-PD-BLOG.jpg',\n",
       " 'data:image/gif;base64,R0lGODlhAQABAAAAACH5BAEKAAEALAAAAAABAAEAAAICTAEAOw==',\n",
       " 'http://www.puredestinations.co.uk/wp-content/uploads/2016/11/HAWA-MAHAL-PD-BLOG.jpg',\n",
       " 'data:image/gif;base64,R0lGODlhAQABAAAAACH5BAEKAAEALAAAAAABAAEAAAICTAEAOw==',\n",
       " 'http://www.puredestinations.co.uk/wp-content/uploads/2016/11/qutub-minar-PD-BLOG.jpg',\n",
       " 'data:image/gif;base64,R0lGODlhAQABAAAAACH5BAEKAAEALAAAAAABAAEAAAICTAEAOw==',\n",
       " 'http://www.puredestinations.co.uk/wp-content/uploads/2016/11/Sanchi-Stupi-PD-BLOG.jpg',\n",
       " 'data:image/gif;base64,R0lGODlhAQABAAAAACH5BAEKAAEALAAAAAABAAEAAAICTAEAOw==',\n",
       " 'http://www.puredestinations.co.uk/wp-content/uploads/2016/11/Charminar-PD-BLOG-1.jpg',\n",
       " 'data:image/gif;base64,R0lGODlhAQABAAAAACH5BAEKAAEALAAAAAABAAEAAAICTAEAOw==',\n",
       " 'https://www.puredestinations.co.uk/wp-content/themes/puredestinations/images/accreditations/abta.png',\n",
       " 'data:image/gif;base64,R0lGODlhAQABAAAAACH5BAEKAAEALAAAAAABAAEAAAICTAEAOw==',\n",
       " 'https://www.puredestinations.co.uk/wp-content/themes/puredestinations/images/accreditations/protected.png',\n",
       " 'https://www.facebook.com/tr?id=106387616371570&ev=PageView&noscript=1']"
      ]
     },
     "execution_count": 5,
     "metadata": {},
     "output_type": "execute_result"
    }
   ],
   "source": [
    "#Monument image url\n",
    "\n",
    "images=[] \n",
    "\n",
    "for i in soup.find_all('img'):\n",
    "\n",
    "    images.append(i['src'])\n",
    "    \n",
    "images"
   ]
  },
  {
   "cell_type": "code",
   "execution_count": null,
   "id": "4c028fd0",
   "metadata": {},
   "outputs": [],
   "source": []
  }
 ],
 "metadata": {
  "kernelspec": {
   "display_name": "Python 3",
   "language": "python",
   "name": "python3"
  },
  "language_info": {
   "codemirror_mode": {
    "name": "ipython",
    "version": 3
   },
   "file_extension": ".py",
   "mimetype": "text/x-python",
   "name": "python",
   "nbconvert_exporter": "python",
   "pygments_lexer": "ipython3",
   "version": "3.8.8"
  }
 },
 "nbformat": 4,
 "nbformat_minor": 5
}
